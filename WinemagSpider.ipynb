{
 "cells": [
  {
   "cell_type": "markdown",
   "metadata": {},
   "source": [
    "# Scraping Winemag with scrapy"
   ]
  },
  {
   "cell_type": "markdown",
   "metadata": {},
   "source": [
    "## A prove of concept"
   ]
  },
  {
   "cell_type": "markdown",
   "metadata": {},
   "source": [
    "As a prove of concept, we scrape all reviews of wines from California. We separate the observations into some arbitrary groups via the start urls, because we can only retrieve 50,000 observations at once. The links column of the dataset that we create could be piped into another parse function to retrieve the full review of each individual wine. Also, we are using a dictionary to hold the entries, using lists instead would be more efficient, but this approach renders more readable text for now."
   ]
  },
  {
   "cell_type": "markdown",
   "metadata": {},
   "source": [
    "### Define Spider"
   ]
  },
  {
   "cell_type": "code",
   "execution_count": 1,
   "metadata": {},
   "outputs": [],
   "source": [
    "from scrapy import Spider\n",
    "from scrapy.http import Request\n",
    "import re\n",
    "\n",
    "class WinemagSpider(Spider):\n",
    "    name = 'WinemagSpider'\n",
    "    allowed_domains = ['www.winemag.com']\n",
    "    start_urls = ['https://www.winemag.com/?s=&drink_type=wine&country=US&state=California&region=Central%20Coast&page=1', \n",
    "                  'https://www.winemag.com/?s=&drink_type=wine&country=US&state=California&region=Sonoma&page=1', \n",
    "                  'https://www.winemag.com/?s=&drink_type=wine&country=US&state=California&region=Napa&page=1', \n",
    "                  'https://www.winemag.com/?s=&drink_type=wine&country=US&state=California&region=California%20Other&page=1', \n",
    "                  'https://www.winemag.com/?s=&drink_type=wine&country=US&state=California&region=Mendocino%20County&page=1', \n",
    "                  'https://www.winemag.com/?s=&drink_type=wine&country=US&state=California&region=Sierra%20Foothills&page=1', \n",
    "                  'https://www.winemag.com/?s=&drink_type=wine&country=US&state=California&region=Napa-Sonoma&page=1', \n",
    "                  'https://www.winemag.com/?s=&drink_type=wine&country=US&state=California&region=Central%20Valley&page=1', \n",
    "                  'https://www.winemag.com/?s=&drink_type=wine&country=US&state=California&region=North%20Coast&page=1', \n",
    "                  'https://www.winemag.com/?s=&drink_type=wine&country=US&state=California&region=Lake%20County&page=1', \n",
    "                  'https://www.winemag.com/?s=&drink_type=wine&country=US&state=California&region=South%20Coast&page=1', \n",
    "                  'https://www.winemag.com/?s=&drink_type=wine&country=US&state=California&appellation=California-Washington&page=1', \n",
    "                  'https://www.winemag.com/?s=&drink_type=wine&country=US&state=California&appellation=California-Oregon&page=1', \n",
    "                  'https://www.winemag.com/?s=&drink_type=wine&country=US&state=California&appellation=Napa-Monterey-Mendocino&page=1', \n",
    "                  'https://www.winemag.com/?s=&drink_type=wine&country=US&state=California&appellation=Santa%20Barbara%20County-Sonoma%20County-Monterey%20County&page=1',\n",
    "                  'https://www.winemag.com/?s=&drink_type=wine&country=US&state=California&region=Mendocino/Lake%20Counties&page=1']\n",
    "\n",
    "    global wineries \n",
    "    wineries = []\n",
    "    \n",
    "    def parse(self, response):\n",
    "        \n",
    "        organizations = response.xpath('//*[@class=\"review-item \"]')\n",
    "        for organization in organizations:\n",
    "            title = organization.xpath('.//*[@class=\"title\"]/text()').extract_first()\n",
    "            appelation = organization.xpath('.//*[@class=\"appellation\"]//text()').extract_first()\n",
    "            excerpt = organization.xpath('.//*[@class=\"excerpt\"]//text()').extract_first()\n",
    "            rating = organization.xpath('.//*[@class=\"rating\"]//text()').extract_first()\n",
    "            price = organization.xpath('.//*[@class=\"price\"]//text()').extract_first()\n",
    "            referer = response.url\n",
    "            link = organization.xpath('.//a/@href').extract_first()\n",
    "            \n",
    "            wineries.append({'title': title, 'appelation': appelation, 'excerpt': excerpt, \n",
    "                             'rating': rating, 'price': price, 'referer': referer, 'link': link})\n",
    "        \n",
    "        page_n = int(re.search(r'\\d+$', response.url).group())\n",
    "        next_pages = response.xpath('//*[@class=\"pagination\"]//a/text()').extract()\n",
    "                \n",
    "        if page_n == 1 and next_pages:\n",
    "            max_page = int(next_pages[-1])\n",
    "            \n",
    "            url = re.search(r'.*[^\\d+$]', response.url).group()\n",
    "            \n",
    "            for i in range(2, max_page + 1):\n",
    "                absolute_url = url + str(i)\n",
    "                yield Request(absolute_url, callback=self.parse)\n"
   ]
  },
  {
   "cell_type": "markdown",
   "metadata": {},
   "source": [
    "### Initiate process and crawl website"
   ]
  },
  {
   "cell_type": "code",
   "execution_count": 2,
   "metadata": {},
   "outputs": [],
   "source": [
    "from scrapy.crawler import CrawlerProcess\n",
    "from datetime import date\n",
    "\n",
    "process = CrawlerProcess({\n",
    "    'USER_AGENT': 'Mozilla/5.0 (X11; Ubuntu; Linux x86_64; rv:67.0) Gecko/20100101 Firefox/67.0', \n",
    "    'DOWNLOAD_DELAY': '0.05', \n",
    "#     'CONCURRENT_REQUESTS': 2,\n",
    "    'LOG_FILE': 'log_{}.txt'.format(date.today().isoformat())\n",
    "})"
   ]
  },
  {
   "cell_type": "code",
   "execution_count": 3,
   "metadata": {},
   "outputs": [
    {
     "data": {
      "text/plain": [
       "<Deferred at 0x7fd9aa01b7f0>"
      ]
     },
     "execution_count": 3,
     "metadata": {},
     "output_type": "execute_result"
    }
   ],
   "source": [
    "process.crawl(WinemagSpider)"
   ]
  },
  {
   "cell_type": "code",
   "execution_count": 4,
   "metadata": {},
   "outputs": [],
   "source": [
    "process.start()"
   ]
  },
  {
   "cell_type": "code",
   "execution_count": 5,
   "metadata": {},
   "outputs": [
    {
     "data": {
      "text/plain": [
       "<DeferredList at 0x7fd99c10df60 current result: []>"
      ]
     },
     "execution_count": 5,
     "metadata": {},
     "output_type": "execute_result"
    }
   ],
   "source": [
    "process.stop()"
   ]
  },
  {
   "cell_type": "markdown",
   "metadata": {},
   "source": [
    "### Verify results"
   ]
  },
  {
   "cell_type": "code",
   "execution_count": 6,
   "metadata": {},
   "outputs": [
    {
     "data": {
      "text/plain": [
       "77846"
      ]
     },
     "execution_count": 6,
     "metadata": {},
     "output_type": "execute_result"
    }
   ],
   "source": [
    "import pandas as pd\n",
    "\n",
    "wineries = pd.DataFrame(wineries)\n",
    "len(wineries)"
   ]
  },
  {
   "cell_type": "code",
   "execution_count": 7,
   "metadata": {},
   "outputs": [
    {
     "data": {
      "text/html": [
       "<div>\n",
       "<style scoped>\n",
       "    .dataframe tbody tr th:only-of-type {\n",
       "        vertical-align: middle;\n",
       "    }\n",
       "\n",
       "    .dataframe tbody tr th {\n",
       "        vertical-align: top;\n",
       "    }\n",
       "\n",
       "    .dataframe thead th {\n",
       "        text-align: right;\n",
       "    }\n",
       "</style>\n",
       "<table border=\"1\" class=\"dataframe\">\n",
       "  <thead>\n",
       "    <tr style=\"text-align: right;\">\n",
       "      <th></th>\n",
       "      <th>appelation</th>\n",
       "      <th>excerpt</th>\n",
       "      <th>link</th>\n",
       "      <th>price</th>\n",
       "      <th>rating</th>\n",
       "      <th>referer</th>\n",
       "      <th>title</th>\n",
       "    </tr>\n",
       "  </thead>\n",
       "  <tbody>\n",
       "    <tr>\n",
       "      <th>0</th>\n",
       "      <td>North Coast</td>\n",
       "      <td>Delicious and exotic fruit flavors light up th...</td>\n",
       "      <td>https://www.winemag.com/buying-guide/de-loach-...</td>\n",
       "      <td>$45</td>\n",
       "      <td>93</td>\n",
       "      <td>https://www.winemag.com/?s=&amp;drink_type=wine&amp;co...</td>\n",
       "      <td>De Loach 2016 Marin Pinot Noir (Marin County)</td>\n",
       "    </tr>\n",
       "    <tr>\n",
       "      <th>1</th>\n",
       "      <td>North Coast</td>\n",
       "      <td>This is a super-concentrated and richly tannic...</td>\n",
       "      <td>https://www.winemag.com/buying-guide/eclectic-...</td>\n",
       "      <td>$20</td>\n",
       "      <td>92</td>\n",
       "      <td>https://www.winemag.com/?s=&amp;drink_type=wine&amp;co...</td>\n",
       "      <td>Eclectic 2014 Charbono (Suisun Valley)</td>\n",
       "    </tr>\n",
       "    <tr>\n",
       "      <th>2</th>\n",
       "      <td>North Coast</td>\n",
       "      <td>Generous aromas, warm and ripe fruit flavors a...</td>\n",
       "      <td>https://www.winemag.com/buying-guide/fulcrum-2...</td>\n",
       "      <td>$39</td>\n",
       "      <td>92</td>\n",
       "      <td>https://www.winemag.com/?s=&amp;drink_type=wine&amp;co...</td>\n",
       "      <td>Fulcrum 2017 On Point Winemaker's Selection Pi...</td>\n",
       "    </tr>\n",
       "    <tr>\n",
       "      <th>3</th>\n",
       "      <td>North Coast</td>\n",
       "      <td>Well structured and admirably dry, this wine i...</td>\n",
       "      <td>https://www.winemag.com/buying-guide/briceland...</td>\n",
       "      <td>$27</td>\n",
       "      <td>90</td>\n",
       "      <td>https://www.winemag.com/?s=&amp;drink_type=wine&amp;co...</td>\n",
       "      <td>Briceland 2015 Ishi Pishi Ranch Zinfandel (Hum...</td>\n",
       "    </tr>\n",
       "    <tr>\n",
       "      <th>4</th>\n",
       "      <td>North Coast</td>\n",
       "      <td>A deep color and ripe black-cherry flavor make...</td>\n",
       "      <td>https://www.winemag.com/buying-guide/kuleto-es...</td>\n",
       "      <td>$24</td>\n",
       "      <td>90</td>\n",
       "      <td>https://www.winemag.com/?s=&amp;drink_type=wine&amp;co...</td>\n",
       "      <td>Kuleto Estate 2016 India Ink Red (Lake County-...</td>\n",
       "    </tr>\n",
       "  </tbody>\n",
       "</table>\n",
       "</div>"
      ],
      "text/plain": [
       "    appelation                                            excerpt  \\\n",
       "0  North Coast  Delicious and exotic fruit flavors light up th...   \n",
       "1  North Coast  This is a super-concentrated and richly tannic...   \n",
       "2  North Coast  Generous aromas, warm and ripe fruit flavors a...   \n",
       "3  North Coast  Well structured and admirably dry, this wine i...   \n",
       "4  North Coast  A deep color and ripe black-cherry flavor make...   \n",
       "\n",
       "                                                link price rating  \\\n",
       "0  https://www.winemag.com/buying-guide/de-loach-...   $45     93   \n",
       "1  https://www.winemag.com/buying-guide/eclectic-...   $20     92   \n",
       "2  https://www.winemag.com/buying-guide/fulcrum-2...   $39     92   \n",
       "3  https://www.winemag.com/buying-guide/briceland...   $27     90   \n",
       "4  https://www.winemag.com/buying-guide/kuleto-es...   $24     90   \n",
       "\n",
       "                                             referer  \\\n",
       "0  https://www.winemag.com/?s=&drink_type=wine&co...   \n",
       "1  https://www.winemag.com/?s=&drink_type=wine&co...   \n",
       "2  https://www.winemag.com/?s=&drink_type=wine&co...   \n",
       "3  https://www.winemag.com/?s=&drink_type=wine&co...   \n",
       "4  https://www.winemag.com/?s=&drink_type=wine&co...   \n",
       "\n",
       "                                               title  \n",
       "0      De Loach 2016 Marin Pinot Noir (Marin County)  \n",
       "1             Eclectic 2014 Charbono (Suisun Valley)  \n",
       "2  Fulcrum 2017 On Point Winemaker's Selection Pi...  \n",
       "3  Briceland 2015 Ishi Pishi Ranch Zinfandel (Hum...  \n",
       "4  Kuleto Estate 2016 India Ink Red (Lake County-...  "
      ]
     },
     "execution_count": 7,
     "metadata": {},
     "output_type": "execute_result"
    }
   ],
   "source": [
    "wineries.head()"
   ]
  },
  {
   "cell_type": "code",
   "execution_count": 8,
   "metadata": {},
   "outputs": [],
   "source": [
    "wineries.to_csv('winemag_archive_{}.csv'.format(date.today().isoformat()))"
   ]
  }
 ],
 "metadata": {
  "kernelspec": {
   "display_name": "Python 3",
   "language": "python",
   "name": "python3"
  },
  "language_info": {
   "codemirror_mode": {
    "name": "ipython",
    "version": 3
   },
   "file_extension": ".py",
   "mimetype": "text/x-python",
   "name": "python",
   "nbconvert_exporter": "python",
   "pygments_lexer": "ipython3",
   "version": "3.6.8"
  }
 },
 "nbformat": 4,
 "nbformat_minor": 4
}
